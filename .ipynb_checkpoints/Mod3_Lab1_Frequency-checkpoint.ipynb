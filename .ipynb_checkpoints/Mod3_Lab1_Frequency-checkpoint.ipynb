{
 "cells": [
  {
   "cell_type": "markdown",
   "metadata": {},
   "source": [
    "Module 3, Lab 1 - Frequency Claims\n",
    "==================================\n",
    "\n",
    "In this lab, we will examine how to analyze data for a frequency claim.\n",
    "A frequency claim is where the level of a single variable is reported.\n",
    "\n",
    "In this example, you are analyzing data from a local coffee company. You\n",
    "wish to know how many coffee beverages are consumed by the average\n",
    "customer in a day. These customers are surveyed and the data are\n",
    "produced. You load the data from a CSV file (in the github folder for\n",
    "this lab).\n",
    "\n",
    "This lab will use the `Rmisc` package to make a confidence interval, the\n",
    "`ggplot2` package for plotting, and the `psych` package to test skew."
   ]
  },
  {
   "cell_type": "code",
   "execution_count": 1,
   "metadata": {},
   "outputs": [
    {
     "ename": "NameError",
     "evalue": "name 'install' is not defined",
     "output_type": "error",
     "traceback": [
      "\u001b[1;31m---------------------------------------------------------------------------\u001b[0m",
      "\u001b[1;31mNameError\u001b[0m                                 Traceback (most recent call last)",
      "\u001b[1;32m<ipython-input-1-f4e0e2035fb5>\u001b[0m in \u001b[0;36m<module>\u001b[1;34m()\u001b[0m\n\u001b[0;32m      1\u001b[0m \u001b[1;31m#### LOAD PACKAGES ####\u001b[0m\u001b[1;33m\u001b[0m\u001b[1;33m\u001b[0m\u001b[0m\n\u001b[1;32m----> 2\u001b[1;33m \u001b[0minstall\u001b[0m\u001b[1;33m.\u001b[0m\u001b[0mpackages\u001b[0m\u001b[1;33m(\u001b[0m\u001b[1;34m'psych'\u001b[0m\u001b[1;33m)\u001b[0m\u001b[1;33m\u001b[0m\u001b[0m\n\u001b[0m\u001b[0;32m      3\u001b[0m \u001b[0mlibrary\u001b[0m\u001b[1;33m(\u001b[0m\u001b[0mpsych\u001b[0m\u001b[1;33m)\u001b[0m\u001b[1;33m\u001b[0m\u001b[0m\n\u001b[0;32m      4\u001b[0m \u001b[0mlibrary\u001b[0m\u001b[1;33m(\u001b[0m\u001b[0mggplot2\u001b[0m\u001b[1;33m)\u001b[0m\u001b[1;33m\u001b[0m\u001b[0m\n\u001b[0;32m      5\u001b[0m \u001b[0minstall\u001b[0m\u001b[1;33m.\u001b[0m\u001b[0mpackages\u001b[0m\u001b[1;33m(\u001b[0m\u001b[1;34m'Rmisc'\u001b[0m\u001b[1;33m)\u001b[0m\u001b[1;33m\u001b[0m\u001b[0m\n",
      "\u001b[1;31mNameError\u001b[0m: name 'install' is not defined"
     ]
    }
   ],
   "source": [
    "#### LOAD PACKAGES ####\n",
    "install.packages('psych')\n",
    "library(psych)\n",
    "library(ggplot2)\n",
    "install.packages('Rmisc')\n",
    "library(Rmisc)"
   ]
  },
  {
   "cell_type": "markdown",
   "metadata": {},
   "source": [
    "Next, we load our data:"
   ]
  },
  {
   "cell_type": "code",
   "execution_count": null,
   "metadata": {},
   "outputs": [],
   "source": [
    "#### LOAD DATA in Axure Notebook environment####\n",
    "wd = paste(getwd(),\"/datasets/cupsdat.csv\", sep = \"\") \n",
    "print(wd)\n",
    "dat <- read.csv(wd)"
   ]
  },
  {
   "cell_type": "markdown",
   "metadata": {},
   "source": [
    "You inspect the data:"
   ]
  },
  {
   "cell_type": "code",
   "execution_count": null,
   "metadata": {},
   "outputs": [],
   "source": [
    "names(dat)\n",
    "\n",
    "head(dat)"
   ]
  },
  {
   "cell_type": "markdown",
   "metadata": {},
   "source": [
    "There is an ID variable `X` and a variable indicating the number of\n",
    "beverages named `count`.\n",
    "\n",
    "The first thing to do is to explore the variable. The `summary()`\n",
    "function has many useful features."
   ]
  },
  {
   "cell_type": "code",
   "execution_count": null,
   "metadata": {},
   "outputs": [],
   "source": [
    "summary(dat$count)"
   ]
  },
  {
   "cell_type": "markdown",
   "metadata": {},
   "source": [
    "Here we see that scores range from 0-7, with a median of 2.\n",
    "\n",
    "Exploring Counts\n",
    "================\n",
    "\n",
    "We can also view a `table()` of results:"
   ]
  },
  {
   "cell_type": "code",
   "execution_count": null,
   "metadata": {},
   "outputs": [],
   "source": [
    "table(dat$count)"
   ]
  },
  {
   "cell_type": "markdown",
   "metadata": {},
   "source": [
    "This gives us a sense of the distribution. I actually prefer the\n",
    "`as.matrix()` version of `table()`"
   ]
  },
  {
   "cell_type": "code",
   "execution_count": null,
   "metadata": {},
   "outputs": [],
   "source": [
    "as.matrix(table(dat$count))"
   ]
  },
  {
   "cell_type": "markdown",
   "metadata": {},
   "source": [
    "We see the possible values of `count` on the left and the observed\n",
    "number of each on the right. Clearly, the most common scores are 1 and 2\n",
    "beverages, which makes sense.\n",
    "\n",
    "Often, stakeholders want percentages. This is easy to accomplish,\n",
    "provided you know how many responses you have. The number of rows in the\n",
    "dataset can be returned with `nrow(dat)`:"
   ]
  },
  {
   "cell_type": "code",
   "execution_count": null,
   "metadata": {},
   "outputs": [],
   "source": [
    "nrow(dat)"
   ]
  },
  {
   "cell_type": "markdown",
   "metadata": {},
   "source": [
    "Or, you could ask for the `length()` of the `dat$count` variable:"
   ]
  },
  {
   "cell_type": "code",
   "execution_count": null,
   "metadata": {},
   "outputs": [],
   "source": [
    "length(dat$count)"
   ]
  },
  {
   "cell_type": "markdown",
   "metadata": {},
   "source": [
    "However, I would avoid these as there could be missing values. The\n",
    "easiest way to get the number of scores that are *not missing* is to ask\n",
    "for `sum(!is.na(dat$count))`. The `!is.na()` means \"NOT is missing\" (`!`\n",
    "= not, `is.na()` tests whether something is missing).\n",
    "\n",
    "So, the percentages of each value can be given by dividing each count by\n",
    "the total."
   ]
  },
  {
   "cell_type": "code",
   "execution_count": null,
   "metadata": {},
   "outputs": [],
   "source": [
    "table(dat$count) / sum(!is.na(dat$count))"
   ]
  },
  {
   "cell_type": "markdown",
   "metadata": {},
   "source": [
    "These can be combined to form a nice table:"
   ]
  },
  {
   "cell_type": "code",
   "execution_count": null,
   "metadata": {},
   "outputs": [],
   "source": [
    "tab1 <- cbind(\n",
    "  table(dat$count),\n",
    "  table(dat$count) / sum(!is.na(dat$count))\n",
    ")\n",
    "\n",
    "colnames(tab1) <- c(\"Count\", \"%\")\n",
    "\n",
    "tab1"
   ]
  },
  {
   "cell_type": "markdown",
   "metadata": {},
   "source": [
    "Finally, it can sometimes be helpful to generate a cumulative\n",
    "percentage. This can be done with `cumsum()`:"
   ]
  },
  {
   "cell_type": "code",
   "execution_count": null,
   "metadata": {},
   "outputs": [],
   "source": [
    "# running total\n",
    "cumsum(table(dat$count)) \n",
    "\n",
    "#as percent\n",
    "cumsum(table(dat$count)) / sum(!is.na(dat$count))\n",
    "\n",
    "#added to tab1\n",
    "tab1 <- cbind(\n",
    "  table(dat$count),\n",
    "  table(dat$count) / sum(!is.na(dat$count)),\n",
    "  cumsum(table(dat$count)) / sum(!is.na(dat$count))\n",
    ")\n",
    "\n",
    "colnames(tab1) <- c(\"Count\", \"%\", \"cum. %\")\n",
    "\n",
    "tab1"
   ]
  },
  {
   "cell_type": "markdown",
   "metadata": {},
   "source": [
    "We see here easily that 60% of the sample has consumed 2 drinks per day\n",
    "or fewer. This is a very handy little chart.\n",
    "\n",
    "Histogram\n",
    "=========\n",
    "\n",
    "The most common data visualization is a histogram:"
   ]
  },
  {
   "cell_type": "code",
   "execution_count": null,
   "metadata": {},
   "outputs": [],
   "source": [
    "hist(dat$count)"
   ]
  },
  {
   "cell_type": "markdown",
   "metadata": {},
   "source": [
    "![](M3_Lab1_-_Frequency_files/figure-markdown_strict/unnamed-chunk-12-1.png)\n",
    "\n",
    "We see here that the most common score is zero and that that data has\n",
    "considerable skew. However, actually, that is wrong. Looking back at the\n",
    "results from `table()`, the most common score was 1. Annoyingly,\n",
    "sometimes `hist()` combines results oddly.\n",
    "\n",
    "Assuming that you are familiar with `ggplot2`, we can use that to make a\n",
    "nicer histogram. We can specifically set that each bar has a width of\n",
    "one unit to prevent odd groupings (as above) with `binwidth`."
   ]
  },
  {
   "cell_type": "code",
   "execution_count": null,
   "metadata": {},
   "outputs": [],
   "source": [
    "ggplot(data=dat, aes(x=count))+\n",
    "  theme_light()+\n",
    "  geom_histogram(color=\"black\", fill=\"brown\", binwidth=1)+\n",
    "  scale_x_continuous(name=\"Cups of Coffee Per Day\", breaks=0:10)+\n",
    "  scale_y_continuous(name=\"Frequency\", breaks=seq(0, 50, 5), limits=c(NA, 30))"
   ]
  },
  {
   "cell_type": "markdown",
   "metadata": {},
   "source": [
    "![](M3_Lab1_-_Frequency_files/figure-markdown_strict/unnamed-chunk-13-1.png)\n",
    "\n",
    "This looks both professional and more accurate. There's a lot we can do\n",
    "with our `ggplot2` graph.\n",
    "\n",
    "We can also add exact counts with\n",
    "`geom_text(stat='count', aes(label=..count..), vjust=-1)`. To give\n",
    "enough room, we should set the `limits` on the y-axis to go up to 30:"
   ]
  },
  {
   "cell_type": "code",
   "execution_count": null,
   "metadata": {},
   "outputs": [],
   "source": [
    "ggplot(data=dat, aes(x=count))+\n",
    "  theme_light()+\n",
    "  geom_histogram(color=\"black\", fill=\"brown\", binwidth=1)+\n",
    "  geom_text(stat='count', aes(label=..count..), vjust=-1)+\n",
    "  scale_x_continuous(name=\"Cups of Coffee Per Day\", breaks=0:10)+\n",
    "  scale_y_continuous(name=\"Frequency\", breaks=seq(0, 50, 5), limits=c(NA, 30))"
   ]
  },
  {
   "cell_type": "markdown",
   "metadata": {},
   "source": [
    "![](M3_Lab1_-_Frequency_files/figure-markdown_strict/unnamed-chunk-14-1.png)\n",
    "\n",
    "A full review of `ggplot2` is outside the scope of this tutorial, but I\n",
    "would encourage you to familiarize yourself with it. There are many\n",
    "great web tutorials and books devoted to this fantastic visualization\n",
    "tool.\n",
    "\n",
    "Central Tendency\n",
    "================\n",
    "\n",
    "Assuming you want to provide a one-number summary, you can provide an\n",
    "average. However, we see here given the skew that the mean will be\n",
    "biased upwards.\n",
    "\n",
    "Using the `skew()` command from the `psych` package, we can see this is\n",
    "a modestly skewed distribution:"
   ]
  },
  {
   "cell_type": "code",
   "execution_count": null,
   "metadata": {},
   "outputs": [],
   "source": [
    "skew(dat$count)"
   ]
  },
  {
   "cell_type": "markdown",
   "metadata": {},
   "source": [
    "This is within acceptable range for many purposes (any analyses start to\n",
    "worry when skew reaches somewhere between 0.80-2.0). You can see the\n",
    "mean with `mean()` and median with `median()`:"
   ]
  },
  {
   "cell_type": "code",
   "execution_count": null,
   "metadata": {},
   "outputs": [],
   "source": [
    "mean(dat$count)\n",
    "\n",
    "median(dat$count)"
   ]
  },
  {
   "cell_type": "markdown",
   "metadata": {},
   "source": [
    "Before you finish, you might want to put a confidence interval around\n",
    "your result. You can use the `CI()` command from the `Rmisc` package,\n",
    "which works well for analysis when you plan to analyze the mean:"
   ]
  },
  {
   "cell_type": "code",
   "execution_count": null,
   "metadata": {},
   "outputs": [],
   "source": [
    "CI(dat$count)"
   ]
  },
  {
   "cell_type": "markdown",
   "metadata": {},
   "source": [
    "If you wished to provide a CI for a median, or if your data are\n",
    "proportions or some other format than these, there are many easy options\n",
    "that can be found with a brief web search, similar to the above.\n",
    "\n",
    "Conclusion\n",
    "==========\n",
    "\n",
    "In this case, we can make a frequency claim: most people, on average\n",
    "consume 1-2 cups of coffee per day."
   ]
  }
 ],
 "metadata": {
  "kernelspec": {
   "display_name": "Python 3",
   "language": "python",
   "name": "python3"
  },
  "language_info": {
   "codemirror_mode": {
    "name": "ipython",
    "version": 3
   },
   "file_extension": ".py",
   "mimetype": "text/x-python",
   "name": "python",
   "nbconvert_exporter": "python",
   "pygments_lexer": "ipython3",
   "version": "3.7.0"
  }
 },
 "nbformat": 4,
 "nbformat_minor": 2
}
